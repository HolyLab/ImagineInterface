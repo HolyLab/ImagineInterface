{
 "cells": [
  {
   "cell_type": "code",
   "execution_count": null,
   "metadata": {
    "slideshow": {
     "slide_type": "skip"
    }
   },
   "outputs": [],
   "source": [
    "using Plots; plotlyjs()\n",
    "\n",
    "fntsm = Plots.font(\"sans-serif\", 10.0)\n",
    "fntlg = Plots.font(\"sans-serif\", 14.0)\n",
    "Plots.default(titlefont=fntlg, guidefont=fntlg, tickfont=fntsm, legendfont=fntsm)\n",
    "Plots.default(size=(720,540))"
   ]
  },
  {
   "cell_type": "markdown",
   "metadata": {
    "slideshow": {
     "slide_type": "slide"
    }
   },
   "source": [
    "## OCPI2 status update: Imagine upgrades\n",
    "<br>\n",
    "<br>\n",
    "#### <center>Cody\n",
    "#### <center>Lab Meeting\n",
    "#### <center>13 June 2017"
   ]
  },
  {
   "cell_type": "markdown",
   "metadata": {
    "slideshow": {
     "slide_type": "slide"
    }
   },
   "source": [
    " <center>![noimg](microscope2.png)</center>"
   ]
  },
  {
   "cell_type": "markdown",
   "metadata": {
    "slideshow": {
     "slide_type": "slide"
    }
   },
   "source": [
    " <center>![noimg](optophys3.png)</center>"
   ]
  },
  {
   "cell_type": "markdown",
   "metadata": {
    "slideshow": {
     "slide_type": "slide"
    }
   },
   "source": [
    "### Ways to control hardware\n",
    " 1. With software only.  **Problem:** Inconsistent timing\n",
    " 2. Analog signals (Voltage)\n",
    " <center>![noimg](generic_sawtooth.png)</center>\n",
    " 3. Digital signals (Voltage)\n",
    " <center>![noimg](generic_square_wave.jpg)</center>"
   ]
  },
  {
   "cell_type": "markdown",
   "metadata": {
    "slideshow": {
     "slide_type": "slide"
    }
   },
   "source": [
    "### Experiments enabled by hardware timing\n",
    "1. High-speed volumetric timeseries (my project)\n",
    "2. Sub-stack stimulus delivery timing\n",
    "3. Align images with concurrent recordings (ephys, mic, etc)\n",
    "4. Long experiments with intermittent recording\n",
    "5. Concurrent point-and-shoot optogenetics"
   ]
  },
  {
   "cell_type": "markdown",
   "metadata": {
    "slideshow": {
     "slide_type": "slide"
    }
   },
   "source": [
    "### OCPI2 output channels\n",
    "- 4 analog outputs, 0-10V range\n",
    "    - 2 reserved for positioner control\n",
    "    - 2 will be used for galvo mirrors\n",
    "    - Max analog output rate (4 channels): 1.25 MS/s\n",
    "- 23 digital outputs, 3.3V TTL\n",
    "    - 6 reserved for laser control\n",
    "    - 2 reserved for camera control\n",
    "    - 15 available to users, **may reduce to 11**\n",
    "    - Max digital output rate: 10 MS/s\n",
    "- Requirement: **all** analog and digital IO rates are equal\n",
    "\n"
   ]
  },
  {
   "cell_type": "markdown",
   "metadata": {
    "slideshow": {
     "slide_type": "slide"
    }
   },
   "source": [
    "<center>![noimg](imagine_waveform_fullgui.jpg)</center>"
   ]
  },
  {
   "cell_type": "markdown",
   "metadata": {
    "slideshow": {
     "slide_type": "slide"
    }
   },
   "source": [
    "<center>![noimg](imagine_waveform.jpg)</center>"
   ]
  },
  {
   "cell_type": "markdown",
   "metadata": {
    "slideshow": {
     "slide_type": "slide"
    }
   },
   "source": [
    "## Load the package"
   ]
  },
  {
   "cell_type": "code",
   "execution_count": null,
   "metadata": {
    "collapsed": true,
    "slideshow": {
     "slide_type": "fragment"
    }
   },
   "outputs": [],
   "source": [
    "using ImagineInterface\n",
    "\n",
    "import Unitful: μm, s"
   ]
  },
  {
   "cell_type": "markdown",
   "metadata": {
    "slideshow": {
     "slide_type": "slide"
    }
   },
   "source": [
    "## Show currently supported rigs"
   ]
  },
  {
   "cell_type": "code",
   "execution_count": null,
   "metadata": {
    "slideshow": {
     "slide_type": "fragment"
    }
   },
   "outputs": [],
   "source": [
    "ImagineInterface.RIGS"
   ]
  },
  {
   "cell_type": "markdown",
   "metadata": {
    "slideshow": {
     "slide_type": "slide"
    }
   },
   "source": [
    "## Decide on a sampling rate\n",
    "### (this applies to both input and output signals)"
   ]
  },
  {
   "cell_type": "code",
   "execution_count": null,
   "metadata": {
    "slideshow": {
     "slide_type": "fragment"
    }
   },
   "outputs": [],
   "source": [
    "sample_rate = 50000s^-1 #analog output samples per second"
   ]
  },
  {
   "cell_type": "markdown",
   "metadata": {
    "slideshow": {
     "slide_type": "slide"
    }
   },
   "source": [
    "### Choose a rig and create an empty set of commands"
   ]
  },
  {
   "cell_type": "code",
   "execution_count": null,
   "metadata": {
    "slideshow": {
     "slide_type": "fragment"
    }
   },
   "outputs": [],
   "source": [
    "rig = \"ocpi-2\"\n",
    "ocpi2 = rigtemplate(rig; sample_rate = sample_rate);\n",
    "@show typeof(ocpi2);\n",
    "@show length(ocpi2);\n",
    "@show ocpi2[1];\n",
    "@show ocpi2[3];"
   ]
  },
  {
   "cell_type": "markdown",
   "metadata": {
    "slideshow": {
     "slide_type": "slide"
    }
   },
   "source": [
    "## Extracting subsets of commands"
   ]
  },
  {
   "cell_type": "code",
   "execution_count": null,
   "metadata": {
    "slideshow": {
     "slide_type": "subslide"
    }
   },
   "outputs": [],
   "source": [
    "getpositioners(ocpi2)"
   ]
  },
  {
   "cell_type": "code",
   "execution_count": null,
   "metadata": {
    "slideshow": {
     "slide_type": "subslide"
    }
   },
   "outputs": [],
   "source": [
    "getanalog(ocpi2)"
   ]
  },
  {
   "cell_type": "code",
   "execution_count": null,
   "metadata": {
    "slideshow": {
     "slide_type": "subslide"
    }
   },
   "outputs": [],
   "source": [
    "getcameras(ocpi2)"
   ]
  },
  {
   "cell_type": "code",
   "execution_count": null,
   "metadata": {
    "slideshow": {
     "slide_type": "subslide"
    }
   },
   "outputs": [],
   "source": [
    "getlasers(ocpi2)"
   ]
  },
  {
   "cell_type": "code",
   "execution_count": null,
   "metadata": {
    "slideshow": {
     "slide_type": "subslide"
    }
   },
   "outputs": [],
   "source": [
    "getstimuli(ocpi2)"
   ]
  },
  {
   "cell_type": "markdown",
   "metadata": {
    "slideshow": {
     "slide_type": "slide"
    }
   },
   "source": [
    "## Creating a vector of positioner samples"
   ]
  },
  {
   "cell_type": "code",
   "execution_count": null,
   "metadata": {
    "slideshow": {
     "slide_type": "fragment"
    }
   },
   "outputs": [],
   "source": [
    "sweep_up = [0.0:0.1:800.0...] * Unitful.μm"
   ]
  },
  {
   "cell_type": "markdown",
   "metadata": {
    "slideshow": {
     "slide_type": "slide"
    }
   },
   "source": [
    "## Visualize it"
   ]
  },
  {
   "cell_type": "code",
   "execution_count": null,
   "metadata": {
    "scrolled": true,
    "slideshow": {
     "slide_type": "fragment"
    }
   },
   "outputs": [],
   "source": [
    "using Plots, UnitfulPlots\n",
    "plotlyjs()\n",
    "plot(sweep_up)"
   ]
  },
  {
   "cell_type": "markdown",
   "metadata": {
    "slideshow": {
     "slide_type": "slide"
    }
   },
   "source": [
    "## Add these samples to a positioner command"
   ]
  },
  {
   "cell_type": "code",
   "execution_count": null,
   "metadata": {
    "slideshow": {
     "slide_type": "fragment"
    }
   },
   "outputs": [],
   "source": [
    "pos = getpositioners(ocpi2)[1] #get the axial positioner\n",
    "append!(pos, \"sweep_up\", sweep_up)"
   ]
  },
  {
   "cell_type": "markdown",
   "metadata": {
    "slideshow": {
     "slide_type": "slide"
    }
   },
   "source": [
    "## If you want to retrieve the samples from the command again..."
   ]
  },
  {
   "cell_type": "code",
   "execution_count": null,
   "metadata": {
    "slideshow": {
     "slide_type": "fragment"
    }
   },
   "outputs": [],
   "source": [
    "sweep_up2 = decompress(pos, \"sweep_up\")\n",
    "plot(sweep_up2)"
   ]
  },
  {
   "cell_type": "markdown",
   "metadata": {
    "slideshow": {
     "slide_type": "slide"
    }
   },
   "source": [
    "## Also decompress using raw sample indices or a time interval"
   ]
  },
  {
   "cell_type": "code",
   "execution_count": null,
   "metadata": {
    "slideshow": {
     "slide_type": "fragment"
    }
   },
   "outputs": [],
   "source": [
    "#sample indices\n",
    "some_samps = decompress(pos, 50, 1000)\n",
    "#time\n",
    "more_samps = decompress(pos, 0.01s, 0.12s)\n",
    "plot(more_samps)"
   ]
  },
  {
   "cell_type": "markdown",
   "metadata": {
    "slideshow": {
     "slide_type": "slide"
    }
   },
   "source": [
    "## Other ways to add and remove samples\n",
    "### Remove the last appended sequence"
   ]
  },
  {
   "cell_type": "code",
   "execution_count": null,
   "metadata": {
    "scrolled": true,
    "slideshow": {
     "slide_type": "fragment"
    }
   },
   "outputs": [],
   "source": [
    "pop!(pos);\n",
    "@show pos"
   ]
  },
  {
   "cell_type": "markdown",
   "metadata": {
    "slideshow": {
     "slide_type": "subslide"
    }
   },
   "source": [
    "### Append it again"
   ]
  },
  {
   "cell_type": "code",
   "execution_count": null,
   "metadata": {
    "slideshow": {
     "slide_type": "fragment"
    }
   },
   "outputs": [],
   "source": [
    "append!(pos, \"sweep_up\")\n",
    "@show pos\n",
    "pop!(pos); #back to empty"
   ]
  },
  {
   "cell_type": "markdown",
   "metadata": {
    "slideshow": {
     "slide_type": "slide"
    }
   },
   "source": [
    "## An easier way to generate commands"
   ]
  },
  {
   "cell_type": "markdown",
   "metadata": {
    "slideshow": {
     "slide_type": "fragment"
    }
   },
   "source": [
    "### First decide on some parameters..."
   ]
  },
  {
   "cell_type": "code",
   "execution_count": null,
   "metadata": {
    "collapsed": true,
    "slideshow": {
     "slide_type": "fragment"
    }
   },
   "outputs": [],
   "source": [
    "pmin = 0.0*μm #Piezo start position\n",
    "pmax = 200.0*μm #Piezo stop position\n",
    "stack_img_time = 1.0s #Time to complete the imaging sweep with the piezo\n",
    "reset_time = 0.5s #Time to reset piezo to starting position\n",
    "z_spacing = 3.1μm #The space between slices in the z-stack\n",
    "z_pad = 5.0μm #Set this greater than 0 if you only want to only take slices in a central region of the sweep\n",
    "exp_time = 0.011s  #Exposure time of the camera\n",
    "flash_frac = 0.1; #Fraction of time to keep laser on during exposure"
   ]
  },
  {
   "cell_type": "markdown",
   "metadata": {
    "slideshow": {
     "slide_type": "subslide"
    }
   },
   "source": [
    "## By the way, if you want to know how fast the camera can go..."
   ]
  },
  {
   "cell_type": "code",
   "execution_count": null,
   "metadata": {
    "slideshow": {
     "slide_type": "fragment"
    }
   },
   "outputs": [],
   "source": [
    "hpix = 1000 #horizontal ROI size\n",
    "vpix = 1000 #vertical ROI size\n",
    "@show mx_f = max_framerate(rig, hpix,vpix) #frames per second\n",
    "@show mn_exp = 1/mx_f; #Minimum possible exposure time"
   ]
  },
  {
   "cell_type": "markdown",
   "metadata": {
    "slideshow": {
     "slide_type": "subslide"
    }
   },
   "source": [
    "## And if you forget the maximum ROI size of the camera..."
   ]
  },
  {
   "cell_type": "code",
   "execution_count": null,
   "metadata": {
    "slideshow": {
     "slide_type": "fragment"
    }
   },
   "outputs": [],
   "source": [
    "hmax, vmax = chip_size(rig)"
   ]
  },
  {
   "cell_type": "markdown",
   "metadata": {
    "slideshow": {
     "slide_type": "subslide"
    }
   },
   "source": [
    "## Now generate samples for a stack"
   ]
  },
  {
   "cell_type": "code",
   "execution_count": null,
   "metadata": {
    "slideshow": {
     "slide_type": "fragment"
    }
   },
   "outputs": [],
   "source": [
    "stack_samps = gen_unidirectional_stack(pmin, pmax, z_spacing, stack_img_time, reset_time, exp_time, sample_rate, flash_frac; z_pad = z_pad)"
   ]
  },
  {
   "cell_type": "markdown",
   "metadata": {
    "slideshow": {
     "slide_type": "slide"
    }
   },
   "source": [
    "### The \"positioner\", \"camera\", and \"laser\" entries hold vectors of samples\n",
    "### Now let's append them to their respective commands"
   ]
  },
  {
   "cell_type": "code",
   "execution_count": null,
   "metadata": {
    "collapsed": true,
    "slideshow": {
     "slide_type": "fragment"
    }
   },
   "outputs": [],
   "source": [
    "las1 = getlasers(ocpi2)[1]\n",
    "cam1 = getcameras(ocpi2)[1]\n",
    "append!(pos, \"uni_stack_pos\", stack_samps[\"positioner\"])\n",
    "append!(las1, \"uni_stack_las1\", stack_samps[\"laser\"])\n",
    "append!(cam1, \"uni_stack_cam1\", stack_samps[\"camera\"]);\n",
    "nframes = stack_samps[\"nframes\"]; #store this for later"
   ]
  },
  {
   "cell_type": "markdown",
   "metadata": {
    "slideshow": {
     "slide_type": "slide"
    }
   },
   "source": [
    "## Visualizing the commands"
   ]
  },
  {
   "cell_type": "code",
   "execution_count": null,
   "metadata": {
    "scrolled": true,
    "slideshow": {
     "slide_type": "fragment"
    }
   },
   "outputs": [],
   "source": [
    "plot([pos;las1;cam1])"
   ]
  },
  {
   "cell_type": "markdown",
   "metadata": {
    "slideshow": {
     "slide_type": "slide"
    }
   },
   "source": [
    "## When you are satisfied with the single stack waveform..."
   ]
  },
  {
   "cell_type": "code",
   "execution_count": null,
   "metadata": {
    "slideshow": {
     "slide_type": "fragment"
    }
   },
   "outputs": [],
   "source": [
    "replicate!(pos, 4)\n",
    "replicate!(las1, 4)\n",
    "replicate!(cam1, 4)\n",
    "plot([pos; las1; cam1])"
   ]
  },
  {
   "cell_type": "markdown",
   "metadata": {
    "slideshow": {
     "slide_type": "slide"
    }
   },
   "source": [
    "## When ready, write the commands to file"
   ]
  },
  {
   "cell_type": "code",
   "execution_count": null,
   "metadata": {
    "slideshow": {
     "slide_type": "fragment"
    }
   },
   "outputs": [],
   "source": [
    "nframes = stack_samps[\"nframes\"];\n",
    "nstacks = 5\n",
    "write_commands(\"test_uni.json\", ocpi2, nstacks, nframes, exp_time; isbidi = false)"
   ]
  },
  {
   "cell_type": "markdown",
   "metadata": {
    "slideshow": {
     "slide_type": "slide"
    }
   },
   "source": [
    "## A bidirectional recording"
   ]
  },
  {
   "cell_type": "code",
   "execution_count": null,
   "metadata": {
    "slideshow": {
     "slide_type": "fragment"
    }
   },
   "outputs": [],
   "source": [
    "bidi_samps = gen_bidirectional_stack(pmin, pmax, z_spacing, stack_img_time, exp_time, sample_rate, flash_frac; z_pad = z_pad)"
   ]
  },
  {
   "cell_type": "markdown",
   "metadata": {
    "slideshow": {
     "slide_type": "slide"
    }
   },
   "source": [
    "### Empty our previous commands and add the bidirectional ones"
   ]
  },
  {
   "cell_type": "code",
   "execution_count": null,
   "metadata": {
    "slideshow": {
     "slide_type": "fragment"
    }
   },
   "outputs": [],
   "source": [
    "empty!(pos)\n",
    "empty!(las1)\n",
    "empty!(cam1)\n",
    "append!(pos, \"bidi_stack_pos\", bidi_samps[\"positioner\"])\n",
    "append!(las1, \"bidi_stack_las1\", bidi_samps[\"laser\"])\n",
    "append!(cam1, \"bidi_stack_cam1\", bidi_samps[\"camera\"]);\n",
    "nframes = bidi_samps[\"nframes\"]\n",
    "plot(ocpi2)"
   ]
  },
  {
   "cell_type": "code",
   "execution_count": null,
   "metadata": {
    "scrolled": true,
    "slideshow": {
     "slide_type": "slide"
    }
   },
   "outputs": [],
   "source": [
    "replicate!(pos, 4)\n",
    "replicate!(las1, 4)\n",
    "replicate!(cam1, 4)\n",
    "plot(ocpi2)"
   ]
  },
  {
   "cell_type": "markdown",
   "metadata": {
    "slideshow": {
     "slide_type": "slide"
    }
   },
   "source": [
    "### Another example: alternate cameras during bidi imaging"
   ]
  },
  {
   "cell_type": "code",
   "execution_count": null,
   "metadata": {
    "slideshow": {
     "slide_type": "fragment"
    }
   },
   "outputs": [],
   "source": [
    "bidi_samps_alt = gen_bidirectional_stack(pmin,\n",
    "                                    pmax,\n",
    "                                    z_spacing,\n",
    "                                    stack_img_time,\n",
    "                                    exp_time,\n",
    "                                    sample_rate,\n",
    "                                    flash_frac;\n",
    "                                    z_pad = z_pad,\n",
    "                                    alternate_cameras = true)"
   ]
  },
  {
   "cell_type": "code",
   "execution_count": null,
   "metadata": {
    "slideshow": {
     "slide_type": "subslide"
    }
   },
   "outputs": [],
   "source": [
    "empty!(pos; clear_library = true)\n",
    "empty!(las1; clear_library = true)\n",
    "empty!(cam1; clear_library = true)\n",
    "las2 = getlasers(ocpi2)[2]\n",
    "cam2 = getcameras(ocpi2)[2]\n",
    "append!(pos, \"bidi_stack_pos\", bidi_samps_alt[\"positioner\"])\n",
    "append!(las1, \"bidi_stack_las1\", bidi_samps_alt[\"laser_fwd\"])\n",
    "append!(las2, \"bidi_stack_las2\", bidi_samps_alt[\"laser_back\"])\n",
    "append!(cam1, \"bidi_stack_cam1\", bidi_samps_alt[\"camera_fwd\"]);\n",
    "append!(cam2, \"bidi_stack_cam2\", bidi_samps_alt[\"camera_back\"]);\n",
    "plot(ocpi2)"
   ]
  },
  {
   "cell_type": "markdown",
   "metadata": {
    "slideshow": {
     "slide_type": "slide"
    }
   },
   "source": [
    "## What about inputs?\n",
    "#### We're not quite finished with this yet\n",
    "#### We plan to support the following:\n",
    "1. Recording exposure status (digital) for each camera\n",
    "2. Recording piezo position (analog)\n",
    "3. Additional user-specified analog and digital channels\n",
    "4. `input_template(\"ocpi-2\"; samprate = 50000s^-1)`"
   ]
  },
  {
   "cell_type": "markdown",
   "metadata": {
    "slideshow": {
     "slide_type": "subslide"
    }
   },
   "source": [
    "### OCPI2 extra input channels\n",
    "- Analog: AI2 ~ AI31\n",
    "- Digital: P0.26 ~ P0.31\n",
    "\n",
    "_Remember that max total sample rate for OCPI2 is 2.8 MS/s_\n"
   ]
  },
  {
   "cell_type": "markdown",
   "metadata": {
    "slideshow": {
     "slide_type": "slide"
    }
   },
   "source": [
    "# The end"
   ]
  },
  {
   "cell_type": "code",
   "execution_count": null,
   "metadata": {
    "collapsed": true
   },
   "outputs": [],
   "source": []
  }
 ],
 "metadata": {
  "celltoolbar": "Slideshow",
  "kernelspec": {
   "display_name": "Julia 0.5.2",
   "language": "julia",
   "name": "julia-0.5"
  },
  "language_info": {
   "file_extension": ".jl",
   "mimetype": "application/julia",
   "name": "julia",
   "version": "0.5.2"
  },
  "livereveal": {
   "center": false,
   "height": 768,
   "scroll": true,
   "width": 1024
  }
 },
 "nbformat": 4,
 "nbformat_minor": 2
}
